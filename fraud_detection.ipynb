{
  "nbformat": 4,
  "nbformat_minor": 0,
  "metadata": {
    "colab": {
      "provenance": [],
      "authorship_tag": "ABX9TyNje93j2y/4YCplXI0K1DrK",
      "include_colab_link": true
    },
    "kernelspec": {
      "name": "python3",
      "display_name": "Python 3"
    },
    "language_info": {
      "name": "python"
    }
  },
  "cells": [
    {
      "cell_type": "markdown",
      "metadata": {
        "id": "view-in-github",
        "colab_type": "text"
      },
      "source": [
        "<a href=\"https://colab.research.google.com/github/Dikshasingh2004/fraud_detection/blob/main/fraud_detection.ipynb\" target=\"_parent\"><img src=\"https://colab.research.google.com/assets/colab-badge.svg\" alt=\"Open In Colab\"/></a>"
      ]
    },
    {
      "cell_type": "markdown",
      "source": [
        "#### **Fraud detection in financial transactions.**\n",
        "#####In this project, we will use exact inference to predict whether a transaction is fraudulent based on certain observed features.\n",
        "\n"
      ],
      "metadata": {
        "id": "0vnhaG4WLgGS"
      }
    },
    {
      "cell_type": "markdown",
      "source": [
        "### **Step 1: Install Dependencies**"
      ],
      "metadata": {
        "id": "3uUa97U7VyBt"
      }
    },
    {
      "cell_type": "code",
      "source": [
        "pip install pgmpy\n"
      ],
      "metadata": {
        "colab": {
          "base_uri": "https://localhost:8080/"
        },
        "id": "tqEJ_2-_Lwgb",
        "outputId": "f10307ae-9bd8-43bf-9ee4-dabc23cfd55b"
      },
      "execution_count": 4,
      "outputs": [
        {
          "output_type": "stream",
          "name": "stdout",
          "text": [
            "Requirement already satisfied: pgmpy in /usr/local/lib/python3.10/dist-packages (0.1.26)\n",
            "Requirement already satisfied: networkx in /usr/local/lib/python3.10/dist-packages (from pgmpy) (3.4.1)\n",
            "Requirement already satisfied: numpy in /usr/local/lib/python3.10/dist-packages (from pgmpy) (1.26.4)\n",
            "Requirement already satisfied: scipy in /usr/local/lib/python3.10/dist-packages (from pgmpy) (1.13.1)\n",
            "Requirement already satisfied: scikit-learn in /usr/local/lib/python3.10/dist-packages (from pgmpy) (1.5.2)\n",
            "Requirement already satisfied: pandas in /usr/local/lib/python3.10/dist-packages (from pgmpy) (2.2.2)\n",
            "Requirement already satisfied: pyparsing in /usr/local/lib/python3.10/dist-packages (from pgmpy) (3.2.0)\n",
            "Requirement already satisfied: torch in /usr/local/lib/python3.10/dist-packages (from pgmpy) (2.4.1+cu121)\n",
            "Requirement already satisfied: statsmodels in /usr/local/lib/python3.10/dist-packages (from pgmpy) (0.14.4)\n",
            "Requirement already satisfied: tqdm in /usr/local/lib/python3.10/dist-packages (from pgmpy) (4.66.5)\n",
            "Requirement already satisfied: joblib in /usr/local/lib/python3.10/dist-packages (from pgmpy) (1.4.2)\n",
            "Requirement already satisfied: opt-einsum in /usr/local/lib/python3.10/dist-packages (from pgmpy) (3.4.0)\n",
            "Requirement already satisfied: xgboost in /usr/local/lib/python3.10/dist-packages (from pgmpy) (2.1.1)\n",
            "Requirement already satisfied: google-generativeai in /usr/local/lib/python3.10/dist-packages (from pgmpy) (0.7.2)\n",
            "Requirement already satisfied: google-ai-generativelanguage==0.6.6 in /usr/local/lib/python3.10/dist-packages (from google-generativeai->pgmpy) (0.6.6)\n",
            "Requirement already satisfied: google-api-core in /usr/local/lib/python3.10/dist-packages (from google-generativeai->pgmpy) (2.19.2)\n",
            "Requirement already satisfied: google-api-python-client in /usr/local/lib/python3.10/dist-packages (from google-generativeai->pgmpy) (2.137.0)\n",
            "Requirement already satisfied: google-auth>=2.15.0 in /usr/local/lib/python3.10/dist-packages (from google-generativeai->pgmpy) (2.27.0)\n",
            "Requirement already satisfied: protobuf in /usr/local/lib/python3.10/dist-packages (from google-generativeai->pgmpy) (3.20.3)\n",
            "Requirement already satisfied: pydantic in /usr/local/lib/python3.10/dist-packages (from google-generativeai->pgmpy) (2.9.2)\n",
            "Requirement already satisfied: typing-extensions in /usr/local/lib/python3.10/dist-packages (from google-generativeai->pgmpy) (4.12.2)\n",
            "Requirement already satisfied: proto-plus<2.0.0dev,>=1.22.3 in /usr/local/lib/python3.10/dist-packages (from google-ai-generativelanguage==0.6.6->google-generativeai->pgmpy) (1.24.0)\n",
            "Requirement already satisfied: python-dateutil>=2.8.2 in /usr/local/lib/python3.10/dist-packages (from pandas->pgmpy) (2.8.2)\n",
            "Requirement already satisfied: pytz>=2020.1 in /usr/local/lib/python3.10/dist-packages (from pandas->pgmpy) (2024.2)\n",
            "Requirement already satisfied: tzdata>=2022.7 in /usr/local/lib/python3.10/dist-packages (from pandas->pgmpy) (2024.2)\n",
            "Requirement already satisfied: threadpoolctl>=3.1.0 in /usr/local/lib/python3.10/dist-packages (from scikit-learn->pgmpy) (3.5.0)\n",
            "Requirement already satisfied: patsy>=0.5.6 in /usr/local/lib/python3.10/dist-packages (from statsmodels->pgmpy) (0.5.6)\n",
            "Requirement already satisfied: packaging>=21.3 in /usr/local/lib/python3.10/dist-packages (from statsmodels->pgmpy) (24.1)\n",
            "Requirement already satisfied: filelock in /usr/local/lib/python3.10/dist-packages (from torch->pgmpy) (3.16.1)\n",
            "Requirement already satisfied: sympy in /usr/local/lib/python3.10/dist-packages (from torch->pgmpy) (1.13.3)\n",
            "Requirement already satisfied: jinja2 in /usr/local/lib/python3.10/dist-packages (from torch->pgmpy) (3.1.4)\n",
            "Requirement already satisfied: fsspec in /usr/local/lib/python3.10/dist-packages (from torch->pgmpy) (2024.6.1)\n",
            "Requirement already satisfied: nvidia-nccl-cu12 in /usr/local/lib/python3.10/dist-packages (from xgboost->pgmpy) (2.23.4)\n",
            "Requirement already satisfied: googleapis-common-protos<2.0.dev0,>=1.56.2 in /usr/local/lib/python3.10/dist-packages (from google-api-core->google-generativeai->pgmpy) (1.65.0)\n",
            "Requirement already satisfied: requests<3.0.0.dev0,>=2.18.0 in /usr/local/lib/python3.10/dist-packages (from google-api-core->google-generativeai->pgmpy) (2.32.3)\n",
            "Requirement already satisfied: cachetools<6.0,>=2.0.0 in /usr/local/lib/python3.10/dist-packages (from google-auth>=2.15.0->google-generativeai->pgmpy) (5.5.0)\n",
            "Requirement already satisfied: pyasn1-modules>=0.2.1 in /usr/local/lib/python3.10/dist-packages (from google-auth>=2.15.0->google-generativeai->pgmpy) (0.4.1)\n",
            "Requirement already satisfied: rsa<5,>=3.1.4 in /usr/local/lib/python3.10/dist-packages (from google-auth>=2.15.0->google-generativeai->pgmpy) (4.9)\n",
            "Requirement already satisfied: six in /usr/local/lib/python3.10/dist-packages (from patsy>=0.5.6->statsmodels->pgmpy) (1.16.0)\n",
            "Requirement already satisfied: httplib2<1.dev0,>=0.19.0 in /usr/local/lib/python3.10/dist-packages (from google-api-python-client->google-generativeai->pgmpy) (0.22.0)\n",
            "Requirement already satisfied: google-auth-httplib2<1.0.0,>=0.2.0 in /usr/local/lib/python3.10/dist-packages (from google-api-python-client->google-generativeai->pgmpy) (0.2.0)\n",
            "Requirement already satisfied: uritemplate<5,>=3.0.1 in /usr/local/lib/python3.10/dist-packages (from google-api-python-client->google-generativeai->pgmpy) (4.1.1)\n",
            "Requirement already satisfied: MarkupSafe>=2.0 in /usr/local/lib/python3.10/dist-packages (from jinja2->torch->pgmpy) (3.0.1)\n",
            "Requirement already satisfied: annotated-types>=0.6.0 in /usr/local/lib/python3.10/dist-packages (from pydantic->google-generativeai->pgmpy) (0.7.0)\n",
            "Requirement already satisfied: pydantic-core==2.23.4 in /usr/local/lib/python3.10/dist-packages (from pydantic->google-generativeai->pgmpy) (2.23.4)\n",
            "Requirement already satisfied: mpmath<1.4,>=1.1.0 in /usr/local/lib/python3.10/dist-packages (from sympy->torch->pgmpy) (1.3.0)\n",
            "Requirement already satisfied: grpcio<2.0dev,>=1.33.2 in /usr/local/lib/python3.10/dist-packages (from google-api-core[grpc]!=2.0.*,!=2.1.*,!=2.10.*,!=2.2.*,!=2.3.*,!=2.4.*,!=2.5.*,!=2.6.*,!=2.7.*,!=2.8.*,!=2.9.*,<3.0.0dev,>=1.34.1->google-ai-generativelanguage==0.6.6->google-generativeai->pgmpy) (1.64.1)\n",
            "Requirement already satisfied: grpcio-status<2.0.dev0,>=1.33.2 in /usr/local/lib/python3.10/dist-packages (from google-api-core[grpc]!=2.0.*,!=2.1.*,!=2.10.*,!=2.2.*,!=2.3.*,!=2.4.*,!=2.5.*,!=2.6.*,!=2.7.*,!=2.8.*,!=2.9.*,<3.0.0dev,>=1.34.1->google-ai-generativelanguage==0.6.6->google-generativeai->pgmpy) (1.48.2)\n",
            "Requirement already satisfied: pyasn1<0.7.0,>=0.4.6 in /usr/local/lib/python3.10/dist-packages (from pyasn1-modules>=0.2.1->google-auth>=2.15.0->google-generativeai->pgmpy) (0.6.1)\n",
            "Requirement already satisfied: charset-normalizer<4,>=2 in /usr/local/lib/python3.10/dist-packages (from requests<3.0.0.dev0,>=2.18.0->google-api-core->google-generativeai->pgmpy) (3.4.0)\n",
            "Requirement already satisfied: idna<4,>=2.5 in /usr/local/lib/python3.10/dist-packages (from requests<3.0.0.dev0,>=2.18.0->google-api-core->google-generativeai->pgmpy) (3.10)\n",
            "Requirement already satisfied: urllib3<3,>=1.21.1 in /usr/local/lib/python3.10/dist-packages (from requests<3.0.0.dev0,>=2.18.0->google-api-core->google-generativeai->pgmpy) (2.2.3)\n",
            "Requirement already satisfied: certifi>=2017.4.17 in /usr/local/lib/python3.10/dist-packages (from requests<3.0.0.dev0,>=2.18.0->google-api-core->google-generativeai->pgmpy) (2024.8.30)\n"
          ]
        }
      ]
    },
    {
      "cell_type": "markdown",
      "source": [
        "### **Step 2: Implement the Bayesian Network**\n",
        "\n",
        "To implement a small Bayesian Network, the goal is to predict whether a financial transaction is fraudulent based on features such as whether the transaction amount is unusually high, if it comes from a new location, and if the transaction is occurring at an unusual time.\n",
        "\n",
        "We will use four variables in this network:\n",
        "\n",
        "F (Fraud): Whether the transaction is fraudulent.\n",
        "\n",
        "A (Amount): Whether the transaction amount is unusually high.\n",
        "\n",
        "L (Location): Whether the transaction occurs from a new location.\n",
        "\n",
        "T (Time): Whether the transaction happens at an unusual time (e.g., late at night)."
      ],
      "metadata": {
        "id": "rdMKmLgZMAm2"
      }
    },
    {
      "cell_type": "code",
      "source": [
        "from pgmpy.models import BayesianNetwork\n",
        "from pgmpy.factors.discrete import TabularCPD\n",
        "from pgmpy.inference import VariableElimination"
      ],
      "metadata": {
        "id": "cCWg7E-mOofZ"
      },
      "execution_count": 5,
      "outputs": []
    },
    {
      "cell_type": "markdown",
      "source": [
        "## **from pgmpy.models import BayesianNetwork**\n",
        "\n",
        "\n",
        "BayesianNetwork: This class is used to represent the structure of a Bayesian Network, which is a probabilistic graphical model. A Bayesian Network consists of nodes (random variables) and directed edges (dependencies between variables). Each node has an associated probability distribution (either a prior or a conditional probability distribution).\n",
        "\n",
        "## **from pgmpy.factors.discrete import TabularCPD**\n",
        "\n",
        "TabularCPD: Stands for Tabular Conditional Probability Distribution. This class is used to define the prior probabilities or conditional probabilities for each random variable in the Bayesian Network. These probabilities determine how the variables are related to each other, either independently or conditionally.\n",
        "\n",
        "## **from pgmpy.inference import VariableElimination**\n",
        "\n",
        "VariableElimination: This is an exact inference algorithm used to compute queries (probabilities) in the Bayesian Network. Variable elimination is an efficient algorithm for answering probabilistic queries by systematically eliminating variables from the Bayesian Network. It is used for exact inference, which means it calculates precise probabilities without approximation."
      ],
      "metadata": {
        "id": "bVuGZ2E9PZY3"
      }
    },
    {
      "cell_type": "markdown",
      "source": [
        "#### **Define the structure of the Bayesian Network**"
      ],
      "metadata": {
        "id": "AHmV3k-_RT1r"
      }
    },
    {
      "cell_type": "code",
      "source": [
        "model = BayesianNetwork([('A', 'F'), ('L', 'F'), ('T', 'F')])"
      ],
      "metadata": {
        "id": "GfLximZ6PIN5"
      },
      "execution_count": 7,
      "outputs": []
    },
    {
      "cell_type": "markdown",
      "source": [
        "#### **Define the CPDs (Conditional Probability Tables)**"
      ],
      "metadata": {
        "id": "XSzyglalRiYv"
      }
    },
    {
      "cell_type": "code",
      "source": [
        "# Unusual Amount (A)\n",
        "cpd_A = TabularCPD(variable='A', variable_card=2, values=[[0.95], [0.05]])"
      ],
      "metadata": {
        "id": "TMKK5AcPRDoN"
      },
      "execution_count": 8,
      "outputs": []
    },
    {
      "cell_type": "code",
      "source": [
        "print(cpd_A)"
      ],
      "metadata": {
        "colab": {
          "base_uri": "https://localhost:8080/"
        },
        "id": "j_-i7xSVUzNE",
        "outputId": "693b1dfa-d763-4d62-f470-a0366fa445e3"
      },
      "execution_count": 17,
      "outputs": [
        {
          "output_type": "stream",
          "name": "stdout",
          "text": [
            "+------+------+\n",
            "| A(0) | 0.95 |\n",
            "+------+------+\n",
            "| A(1) | 0.05 |\n",
            "+------+------+\n"
          ]
        }
      ]
    },
    {
      "cell_type": "code",
      "source": [
        "# New Location (L)\n",
        "cpd_L = TabularCPD(variable='L', variable_card=2, values=[[0.9], [0.1]])\n"
      ],
      "metadata": {
        "id": "qKkeliyaR2nZ"
      },
      "execution_count": 9,
      "outputs": []
    },
    {
      "cell_type": "code",
      "source": [
        "print(cpd_L)"
      ],
      "metadata": {
        "colab": {
          "base_uri": "https://localhost:8080/"
        },
        "id": "plQYgl-wU7o-",
        "outputId": "5f62353e-ecbf-4900-d005-08da968e2790"
      },
      "execution_count": 18,
      "outputs": [
        {
          "output_type": "stream",
          "name": "stdout",
          "text": [
            "+------+-----+\n",
            "| L(0) | 0.9 |\n",
            "+------+-----+\n",
            "| L(1) | 0.1 |\n",
            "+------+-----+\n"
          ]
        }
      ]
    },
    {
      "cell_type": "code",
      "source": [
        "# Unusual Time (T)\n",
        "cpd_T = TabularCPD(variable='T', variable_card=2, values=[[0.8], [0.2]])"
      ],
      "metadata": {
        "id": "OGYxpclPR6BK"
      },
      "execution_count": 10,
      "outputs": []
    },
    {
      "cell_type": "code",
      "source": [
        "print(cpd_T)"
      ],
      "metadata": {
        "colab": {
          "base_uri": "https://localhost:8080/"
        },
        "id": "d53-yNy4VAcl",
        "outputId": "5be75677-6de6-4ac7-c22e-e6d08d50a623"
      },
      "execution_count": 19,
      "outputs": [
        {
          "output_type": "stream",
          "name": "stdout",
          "text": [
            "+------+-----+\n",
            "| T(0) | 0.8 |\n",
            "+------+-----+\n",
            "| T(1) | 0.2 |\n",
            "+------+-----+\n"
          ]
        }
      ]
    },
    {
      "cell_type": "code",
      "source": [
        "# Fraud (F) dependent on Amount (A), Location (L), and Time (T)\n",
        "cpd_F = TabularCPD(variable='F', variable_card=2,\n",
        "                   values=[[0.9, 0.7, 0.7, 0.5, 0.6, 0.4, 0.4, 0.1],\n",
        "                           [0.1, 0.3, 0.3, 0.5, 0.4, 0.6, 0.6, 0.9]],\n",
        "                   evidence=['A', 'L', 'T'], evidence_card=[2, 2, 2])"
      ],
      "metadata": {
        "id": "M1Cqaz2ER_LS"
      },
      "execution_count": 11,
      "outputs": []
    },
    {
      "cell_type": "code",
      "source": [
        "print(cpd_F)"
      ],
      "metadata": {
        "colab": {
          "base_uri": "https://localhost:8080/"
        },
        "id": "T0UqfzGcVEz1",
        "outputId": "7c64d8b0-60bd-402e-ae9e-40b158cd9567"
      },
      "execution_count": 20,
      "outputs": [
        {
          "output_type": "stream",
          "name": "stdout",
          "text": [
            "+------+------+------+------+------+------+------+------+------+\n",
            "| A    | A(0) | A(0) | A(0) | A(0) | A(1) | A(1) | A(1) | A(1) |\n",
            "+------+------+------+------+------+------+------+------+------+\n",
            "| L    | L(0) | L(0) | L(1) | L(1) | L(0) | L(0) | L(1) | L(1) |\n",
            "+------+------+------+------+------+------+------+------+------+\n",
            "| T    | T(0) | T(1) | T(0) | T(1) | T(0) | T(1) | T(0) | T(1) |\n",
            "+------+------+------+------+------+------+------+------+------+\n",
            "| F(0) | 0.9  | 0.7  | 0.7  | 0.5  | 0.6  | 0.4  | 0.4  | 0.1  |\n",
            "+------+------+------+------+------+------+------+------+------+\n",
            "| F(1) | 0.1  | 0.3  | 0.3  | 0.5  | 0.4  | 0.6  | 0.6  | 0.9  |\n",
            "+------+------+------+------+------+------+------+------+------+\n"
          ]
        }
      ]
    },
    {
      "cell_type": "markdown",
      "source": [
        "#### **Add the CPDs to the model**"
      ],
      "metadata": {
        "id": "PqTSzAEhSGFX"
      }
    },
    {
      "cell_type": "code",
      "source": [
        "model.add_cpds(cpd_A, cpd_L, cpd_T, cpd_F)"
      ],
      "metadata": {
        "id": "IZhRtuQkSCr_"
      },
      "execution_count": 12,
      "outputs": []
    },
    {
      "cell_type": "markdown",
      "source": [
        "#### **Validate the model**"
      ],
      "metadata": {
        "id": "huNvenEFTSDd"
      }
    },
    {
      "cell_type": "code",
      "source": [
        "assert model.check_model(), \"The model is invalid!\"\n"
      ],
      "metadata": {
        "id": "XjCQ2J-xSM4J"
      },
      "execution_count": 13,
      "outputs": []
    },
    {
      "cell_type": "markdown",
      "source": [
        "#### **Perform Variable Elimination for Exact Inference**"
      ],
      "metadata": {
        "id": "aDeNm2m8TgMf"
      }
    },
    {
      "cell_type": "code",
      "source": [
        "infer = VariableElimination(model)"
      ],
      "metadata": {
        "id": "TKA0p4lFTaMu"
      },
      "execution_count": 14,
      "outputs": []
    },
    {
      "cell_type": "markdown",
      "source": [
        "#### Query 1: What is the probability of fraud if the transaction has a high amount, is from a new location, and occurs at an unusual time?"
      ],
      "metadata": {
        "id": "8moHsZErT0co"
      }
    },
    {
      "cell_type": "code",
      "source": [
        "result = infer.query(variables=['F'], evidence={'A': 1, 'L': 1, 'T': 1})\n",
        "print(\"Probability of fraud given high amount, new location, and unusual time:\\n\", result)"
      ],
      "metadata": {
        "colab": {
          "base_uri": "https://localhost:8080/"
        },
        "id": "Xd4M6CmbTnZp",
        "outputId": "be8e9a90-ba18-4de7-93e5-b4b047b297d7"
      },
      "execution_count": 15,
      "outputs": [
        {
          "output_type": "stream",
          "name": "stdout",
          "text": [
            "Probability of fraud given high amount, new location, and unusual time:\n",
            " +------+----------+\n",
            "| F    |   phi(F) |\n",
            "+======+==========+\n",
            "| F(0) |   0.1000 |\n",
            "+------+----------+\n",
            "| F(1) |   0.9000 |\n",
            "+------+----------+\n"
          ]
        }
      ]
    },
    {
      "cell_type": "markdown",
      "source": [
        "#### Query 2: What is the probability of fraud if the transaction is not from a new location, but has a high amount and occurs at an unusual time?"
      ],
      "metadata": {
        "id": "5CcDz_F9UIhM"
      }
    },
    {
      "cell_type": "code",
      "source": [
        "result = infer.query(variables=['F'], evidence={'A': 1, 'L': 0, 'T': 1})\n",
        "print(\"Probability of fraud given high amount, no new location, and unusual time:\\n\", result)"
      ],
      "metadata": {
        "colab": {
          "base_uri": "https://localhost:8080/"
        },
        "id": "ssgPYT8CUAIz",
        "outputId": "235ed9f8-858b-4767-9d01-930d76453b2d"
      },
      "execution_count": 16,
      "outputs": [
        {
          "output_type": "stream",
          "name": "stdout",
          "text": [
            "Probability of fraud given high amount, no new location, and unusual time:\n",
            " +------+----------+\n",
            "| F    |   phi(F) |\n",
            "+======+==========+\n",
            "| F(0) |   0.4000 |\n",
            "+------+----------+\n",
            "| F(1) |   0.6000 |\n",
            "+------+----------+\n"
          ]
        }
      ]
    },
    {
      "cell_type": "code",
      "source": [],
      "metadata": {
        "id": "aDVtnpbDUSv8"
      },
      "execution_count": null,
      "outputs": []
    }
  ]
}